{
 "cells": [
  {
   "cell_type": "code",
   "execution_count": 1,
   "metadata": {},
   "outputs": [
    {
     "name": "stdout",
     "output_type": "stream",
     "text": [
      "   Virulence  Replicate  ShannonDiversity\n",
      "0        0.5          1          0.059262\n",
      "1        0.5          2          1.093600\n",
      "2        0.5          3          1.139390\n",
      "3        0.5          4          0.547651\n",
      "4        0.5          5          0.065928\n"
     ]
    }
   ],
   "source": [
    "from pandas import *\n",
    "\n",
    "# must specify that blank space \" \" is NaN\n",
    "experimentDF = pandas.read_csv('parasite_data.csv', na_values=[' '])\n",
    "\n",
    "print(experimentDF.head())"
   ]
  },
  {
   "cell_type": "code",
   "execution_count": 2,
   "metadata": {},
   "outputs": [
    {
     "name": "stdout",
     "output_type": "stream",
     "text": [
      "Index(['Virulence', 'Replicate', 'ShannonDiversity'], dtype='object')\n"
     ]
    }
   ],
   "source": [
    "print(experimentDF.columns)"
   ]
  },
  {
   "cell_type": "code",
   "execution_count": 3,
   "metadata": {},
   "outputs": [
    {
     "name": "stdout",
     "output_type": "stream",
     "text": [
      "Virulence           float64:dense\n",
      "Replicate             int64:dense\n",
      "ShannonDiversity    float64:dense\n",
      "dtype: object\n"
     ]
    }
   ],
   "source": [
    "print(experimentDF.ftypes)"
   ]
  },
  {
   "cell_type": "code",
   "execution_count": 4,
   "metadata": {},
   "outputs": [
    {
     "name": "stdout",
     "output_type": "stream",
     "text": [
      "0    0.5\n",
      "1    0.5\n",
      "2    0.5\n",
      "3    0.5\n",
      "4    0.5\n",
      "Name: Virulence, dtype: float64\n"
     ]
    }
   ],
   "source": [
    "print(experimentDF['Virulence'].head())"
   ]
  },
  {
   "cell_type": "code",
   "execution_count": 5,
   "metadata": {},
   "outputs": [
    {
     "name": "stdout",
     "output_type": "stream",
     "text": [
      "1.58981\n"
     ]
    }
   ],
   "source": [
    "# 12th row\n",
    "print(experimentDF[\"ShannonDiversity\"][12])"
   ]
  },
  {
   "cell_type": "code",
   "execution_count": 6,
   "metadata": {},
   "outputs": [
    {
     "name": "stdout",
     "output_type": "stream",
     "text": [
      "     Virulence  Replicate  ShannonDiversity\n",
      "8          0.5          9           2.04768\n",
      "89         0.6         40           2.01066\n",
      "92         0.6         43           2.90081\n",
      "96         0.6         47           2.02915\n",
      "105        0.7          6           2.23427\n"
     ]
    }
   ],
   "source": [
    "# Show all > 2.0\n",
    "print(experimentDF[experimentDF['ShannonDiversity'] > 2.0].head())"
   ]
  },
  {
   "cell_type": "code",
   "execution_count": 7,
   "metadata": {},
   "outputs": [
    {
     "name": "stdout",
     "output_type": "stream",
     "text": [
      "     Virulence  Replicate  ShannonDiversity\n",
      "300        NaN          1          0.000000\n",
      "301        NaN          2          0.000000\n",
      "302        NaN          3          0.833645\n",
      "303        NaN          4          0.000000\n",
      "304        NaN          5          0.990309\n",
      "305        NaN          6          0.000000\n",
      "306        NaN          7          0.000000\n",
      "307        NaN          8          0.000000\n",
      "308        NaN          9          0.061414\n",
      "309        NaN         10          0.316439\n",
      "310        NaN         11          0.904773\n",
      "311        NaN         12          0.884122\n",
      "312        NaN         13          0.000000\n",
      "313        NaN         14          0.000000\n",
      "314        NaN         15          0.000000\n",
      "315        NaN         16          0.000000\n",
      "316        NaN         17          0.013495\n",
      "317        NaN         18          0.882519\n",
      "318        NaN         19          0.000000\n",
      "319        NaN         20          0.986830\n",
      "320        NaN         21          0.000000\n",
      "321        NaN         22          0.000000\n",
      "322        NaN         23          0.000000\n",
      "323        NaN         24          0.000000\n",
      "324        NaN         25          0.000000\n",
      "325        NaN         26          0.000000\n",
      "326        NaN         27          1.702720\n",
      "327        NaN         28          0.169556\n",
      "328        NaN         29          0.949750\n",
      "329        NaN         30          0.240084\n",
      "330        NaN         31          0.925913\n",
      "331        NaN         32          0.000000\n",
      "332        NaN         33          0.693356\n",
      "333        NaN         34          0.000000\n",
      "334        NaN         35          0.310170\n",
      "335        NaN         36          0.000000\n",
      "336        NaN         37          0.000000\n",
      "337        NaN         38          0.000000\n",
      "338        NaN         39          0.000000\n",
      "339        NaN         40          0.000000\n",
      "340        NaN         41          0.000000\n",
      "341        NaN         42          0.000000\n",
      "342        NaN         43          0.000000\n",
      "343        NaN         44          0.000000\n",
      "344        NaN         45          0.391061\n",
      "345        NaN         46          0.001669\n",
      "346        NaN         47          0.000000\n",
      "347        NaN         48          0.444463\n",
      "348        NaN         49          0.383512\n",
      "349        NaN         50          0.511329\n"
     ]
    }
   ],
   "source": [
    "print(experimentDF[np.isnan(experimentDF[\"Virulence\"])])"
   ]
  },
  {
   "cell_type": "markdown",
   "metadata": {},
   "source": [
    "#### DataFrame methods automatically ignore NA/NaN values."
   ]
  },
  {
   "cell_type": "code",
   "execution_count": 8,
   "metadata": {},
   "outputs": [
    {
     "name": "stdout",
     "output_type": "stream",
     "text": [
      "Mean virulence across all treatments: 0.7500000000000013\n"
     ]
    }
   ],
   "source": [
    "print(\"Mean virulence across all treatments:\", experimentDF[\"Virulence\"].mean())"
   ]
  },
  {
   "cell_type": "markdown",
   "metadata": {},
   "source": [
    "#### However, not all methods in Python are guaranteed to handle NA/NaN values properly."
   ]
  },
  {
   "cell_type": "code",
   "execution_count": 9,
   "metadata": {},
   "outputs": [
    {
     "name": "stdout",
     "output_type": "stream",
     "text": [
      "Mean virulence across all treatments: nan\n"
     ]
    }
   ],
   "source": [
    "from scipy import stats  \n",
    "  \n",
    "print(\"Mean virulence across all treatments:\", stats.sem(experimentDF[\"Virulence\"])) "
   ]
  },
  {
   "cell_type": "markdown",
   "metadata": {},
   "source": [
    "#### So we drop rows where any entry is NA/NaN"
   ]
  },
  {
   "cell_type": "code",
   "execution_count": 10,
   "metadata": {},
   "outputs": [
    {
     "name": "stdout",
     "output_type": "stream",
     "text": [
      "Virulence           300\n",
      "Replicate           300\n",
      "ShannonDiversity    300\n",
      "dtype: int64\n"
     ]
    }
   ],
   "source": [
    "# NOTE: this drops the entire row if any of its entries are NA/NaN!  \n",
    "print(experimentDF.dropna().count())"
   ]
  },
  {
   "cell_type": "markdown",
   "metadata": {},
   "source": [
    "Alternatively, we could drop rows based on the content of a singe column\n",
    "\n",
    "<code>print(experimentDF[\"Virulence\"].dropna())</code>\n",
    "\n",
    "Alternatively, we could fill NA/NaN locations with a value..\n",
    "\n",
    "<code>print(experimentDF.fillna(0.0)[\"Virulence\"]) </code>"
   ]
  },
  {
   "cell_type": "code",
   "execution_count": 11,
   "metadata": {},
   "outputs": [
    {
     "name": "stdout",
     "output_type": "stream",
     "text": [
      "Mean virulence across all treatments w/ dropped NaN: 0.7500000000000013\n",
      "Mean virulence across all treatments w/ filled NaN: 0.642857142857144\n"
     ]
    }
   ],
   "source": [
    "print(\"Mean virulence across all treatments w/ dropped NaN:\",  \n",
    "    experimentDF[\"Virulence\"].dropna().mean())  \n",
    "  \n",
    "print(\"Mean virulence across all treatments w/ filled NaN:\",  \n",
    "    experimentDF.fillna(0.0)[\"Virulence\"].mean())"
   ]
  },
  {
   "cell_type": "markdown",
   "metadata": {},
   "source": [
    "#### Mean of a dataset"
   ]
  },
  {
   "cell_type": "code",
   "execution_count": 12,
   "metadata": {},
   "outputs": [
    {
     "name": "stdout",
     "output_type": "stream",
     "text": [
      "Mean Shannon Diversity w/ 0.8 Parasite Virulence = 1.2691338187999996\n"
     ]
    }
   ],
   "source": [
    "print(\"Mean Shannon Diversity w/ 0.8 Parasite Virulence =\", \n",
    "       experimentDF[experimentDF['Virulence'] == 0.8]['ShannonDiversity'].mean())"
   ]
  },
  {
   "cell_type": "markdown",
   "metadata": {},
   "source": [
    "#### Variance in a data set"
   ]
  },
  {
   "cell_type": "code",
   "execution_count": 13,
   "metadata": {},
   "outputs": [
    {
     "name": "stdout",
     "output_type": "stream",
     "text": [
      "Mean Shannon Diversity w/ 0.8 Parasite Virulence = 0.6110384333126732\n"
     ]
    }
   ],
   "source": [
    "print(\"Mean Shannon Diversity w/ 0.8 Parasite Virulence =\", \n",
    "       experimentDF[experimentDF['Virulence'] == 0.8]['ShannonDiversity'].var())"
   ]
  },
  {
   "cell_type": "markdown",
   "metadata": {},
   "source": [
    "The standard deviation, or SD, measures the amount of variability or dispersion for a subject set of data from the mean, while the standard error of the mean, or <em>SEM</em>, measures how far the sample mean of the data is likely to be from the true population mean. The SEM is always smaller than the SD."
   ]
  },
  {
   "cell_type": "code",
   "execution_count": 14,
   "metadata": {},
   "outputs": [
    {
     "name": "stdout",
     "output_type": "stream",
     "text": [
      "SEM of Shannon Diversity w/ 0.8 Parasite Virulence = 0.11054758552882764\n"
     ]
    }
   ],
   "source": [
    "print(\"SEM of Shannon Diversity w/ 0.8 Parasite Virulence =\",  \n",
    "    stats.sem(experimentDF[experimentDF[\"Virulence\"] == 0.8][\"ShannonDiversity\"]))"
   ]
  },
  {
   "cell_type": "markdown",
   "metadata": {},
   "source": [
    "#### Mann-Whitney-Wilcoxon (MWW) RankSum test\n",
    "The MWW RankSum test is a useful test to determine if two distributions are significantly different or not. Unlike the t-test, the RankSum test does not assume that the data are normally distributed, potentially providing a more accurate assessment of the data sets.\n",
    "As an example, let’s say we want to determine if the results of the two following treatments significantly differ or not:"
   ]
  },
  {
   "cell_type": "code",
   "execution_count": 15,
   "metadata": {},
   "outputs": [
    {
     "name": "stdout",
     "output_type": "stream",
     "text": [
      "Data set 1:\n",
      " 0    0.059262\n",
      "1    1.093600\n",
      "2    1.139390\n",
      "3    0.547651\n",
      "4    0.065928\n",
      "Name: ShannonDiversity, dtype: float64\n",
      "Data set 2:\n",
      " 150    1.433800\n",
      "151    2.079700\n",
      "152    0.892139\n",
      "153    2.384740\n",
      "154    0.006980\n",
      "Name: ShannonDiversity, dtype: float64\n"
     ]
    }
   ],
   "source": [
    "# select two treatment data sets from the parasite data  \n",
    "treatment1 = experimentDF[experimentDF[\"Virulence\"] == 0.5][\"ShannonDiversity\"]  \n",
    "treatment2 = experimentDF[experimentDF[\"Virulence\"] == 0.8][\"ShannonDiversity\"]  \n",
    "  \n",
    "print(\"Data set 1:\\n\", treatment1.head())\n",
    "print(\"Data set 2:\\n\", treatment2.head())"
   ]
  },
  {
   "cell_type": "markdown",
   "metadata": {},
   "source": [
    "A RankSum test will provide a P value indicating whether or not the two distributions are the same."
   ]
  },
  {
   "cell_type": "code",
   "execution_count": 16,
   "metadata": {},
   "outputs": [
    {
     "name": "stdout",
     "output_type": "stream",
     "text": [
      "MWW RankSum P for treatments 1 and 2 = 0.0009833559027350577\n"
     ]
    }
   ],
   "source": [
    "z_stat, p_val = stats.ranksums(treatment1, treatment2)  \n",
    "  \n",
    "print(\"MWW RankSum P for treatments 1 and 2 =\", p_val)  "
   ]
  },
  {
   "cell_type": "markdown",
   "metadata": {},
   "source": [
    "If P <= 0.05, we are highly confident that the distributions significantly differ, and can claim that the treatments had a significant impact on the measured value. If the treatments do not significantly differ, we could expect a result such as the following:"
   ]
  },
  {
   "cell_type": "code",
   "execution_count": 17,
   "metadata": {},
   "outputs": [
    {
     "name": "stdout",
     "output_type": "stream",
     "text": [
      "Data set 3:\n",
      " 150    1.433800\n",
      "151    2.079700\n",
      "152    0.892139\n",
      "153    2.384740\n",
      "154    0.006980\n",
      "Name: ShannonDiversity, dtype: float64\n",
      "Data set 4:\n",
      " 200    1.036930\n",
      "201    0.938018\n",
      "202    0.995956\n",
      "203    1.006970\n",
      "204    0.968258\n",
      "Name: ShannonDiversity, dtype: float64\n"
     ]
    }
   ],
   "source": [
    "treatment3 = experimentDF[experimentDF[\"Virulence\"] == 0.8][\"ShannonDiversity\"]  \n",
    "treatment4 = experimentDF[experimentDF[\"Virulence\"] == 0.9][\"ShannonDiversity\"]  \n",
    "  \n",
    "print(\"Data set 3:\\n\", treatment3.head())\n",
    "print(\"Data set 4:\\n\", treatment4.head())"
   ]
  },
  {
   "cell_type": "code",
   "execution_count": 18,
   "metadata": {},
   "outputs": [
    {
     "name": "stdout",
     "output_type": "stream",
     "text": [
      "MWW RankSum P for treatments 3 and 4 = 0.9944995711242048\n"
     ]
    }
   ],
   "source": [
    "# compute RankSum P value  \n",
    "z_stat, p_val = stats.ranksums(treatment3, treatment4)  \n",
    "  \n",
    "print(\"MWW RankSum P for treatments 3 and 4 =\", p_val)"
   ]
  },
  {
   "cell_type": "markdown",
   "metadata": {},
   "source": [
    "With P > 0.05, we must say that the distributions do not significantly differ. Thus changing the parasite virulence between 0.8 and 0.9 does not result in a significant change in Shannon Diversity."
   ]
  },
  {
   "cell_type": "markdown",
   "metadata": {},
   "source": [
    "#### One-way analysis of variance (ANOVA)\n",
    "If you need to compare more than two data sets at a time, an ANOVA is your best bet. For example, we have the results from three experiments with overlapping 95% confidence intervals, and we want to confirm that the results for all three experiments are not significantly different.\n"
   ]
  },
  {
   "cell_type": "code",
   "execution_count": 19,
   "metadata": {},
   "outputs": [
    {
     "name": "stdout",
     "output_type": "stream",
     "text": [
      "Data set 1:\n",
      " 100    1.595440\n",
      "101    1.419730\n",
      "102    0.000000\n",
      "103    0.000000\n",
      "104    0.787591\n",
      "Name: ShannonDiversity, dtype: float64\n",
      "Data set 2:\n",
      " 150    1.433800\n",
      "151    2.079700\n",
      "152    0.892139\n",
      "153    2.384740\n",
      "154    0.006980\n",
      "Name: ShannonDiversity, dtype: float64\n",
      "Data set 3:\n",
      " 200    1.036930\n",
      "201    0.938018\n",
      "202    0.995956\n",
      "203    1.006970\n",
      "204    0.968258\n",
      "Name: ShannonDiversity, dtype: float64\n"
     ]
    }
   ],
   "source": [
    "treatment1 = experimentDF[experimentDF[\"Virulence\"] == 0.7][\"ShannonDiversity\"]  \n",
    "treatment2 = experimentDF[experimentDF[\"Virulence\"] == 0.8][\"ShannonDiversity\"]  \n",
    "treatment3 = experimentDF[experimentDF[\"Virulence\"] == 0.9][\"ShannonDiversity\"]  \n",
    "  \n",
    "print(\"Data set 1:\\n\", treatment1.head())\n",
    "print(\"Data set 2:\\n\", treatment2.head())\n",
    "print(\"Data set 3:\\n\", treatment3.head())"
   ]
  },
  {
   "cell_type": "code",
   "execution_count": 20,
   "metadata": {},
   "outputs": [
    {
     "name": "stdout",
     "output_type": "stream",
     "text": [
      "One-way ANOVA P = 0.3815094818741026\n"
     ]
    }
   ],
   "source": [
    "# compute one-way ANOVA P value   \n",
    "from scipy import stats  \n",
    "      \n",
    "f_val, p_val = stats.f_oneway(treatment1, treatment2, treatment3)  \n",
    "  \n",
    "print(\"One-way ANOVA P =\", p_val) "
   ]
  },
  {
   "cell_type": "markdown",
   "metadata": {},
   "source": [
    "If P > 0.05, we can claim with high confidence that the means of the results of all three experiments are not significantly different."
   ]
  },
  {
   "cell_type": "markdown",
   "metadata": {},
   "source": [
    "#### Bootstrapped 95% confidence intervals\n",
    "\n",
    "Oftentimes in wet lab research, it’s difficult to perform the 20 replicate runs recommended for computing reliable confidence intervals with SEM.\n",
    "\n",
    "In this case, bootstrapping the confidence intervals is a much more accurate method of determining the 95% confidence interval around your experiment’s mean performance.\n",
    "\n",
    "Unfortunately, SciPy doesn’t have bootstrapping built into its standard library yet. However, there is already a scikit out there for bootstrapping. Enter the following command to install it:\n",
    "\n",
    "<code>sudo easy_install scikits.bootstrap</code>  \n",
    "\n",
    "Bootstrapping 95% confidence intervals around the mean with this function is simple:"
   ]
  },
  {
   "cell_type": "code",
   "execution_count": 21,
   "metadata": {},
   "outputs": [
    {
     "name": "stdout",
     "output_type": "stream",
     "text": [
      "Small data set:\n",
      " 150    1.433800\n",
      "151    2.079700\n",
      "152    0.892139\n",
      "153    2.384740\n",
      "154    0.006980\n",
      "155    1.971760\n",
      "156    0.000000\n",
      "157    1.428470\n",
      "158    1.715950\n",
      "159    0.000000\n",
      "Name: ShannonDiversity, dtype: float64\n"
     ]
    }
   ],
   "source": [
    "# subset a list of 10 data points  \n",
    "treatment1 = experimentDF[experimentDF[\"Virulence\"] == 0.8][\"ShannonDiversity\"][:10]  \n",
    "  \n",
    "print(\"Small data set:\\n\", treatment1)"
   ]
  },
  {
   "cell_type": "code",
   "execution_count": 22,
   "metadata": {},
   "outputs": [
    {
     "name": "stdout",
     "output_type": "stream",
     "text": [
      "Bootstrapped 95% confidence intervals\n",
      "Low: 0.6137199720000001 \n",
      "High: 1.7012658000000003\n"
     ]
    }
   ],
   "source": [
    "import scipy  \n",
    "import scikits.bootstrap as bootstrap  \n",
    "  \n",
    "# compute 95% confidence intervals around the mean  \n",
    "CIs = bootstrap.ci(data=treatment1, statfunction=scipy.mean)  \n",
    "  \n",
    "print(\"Bootstrapped 95% confidence intervals\\nLow:\", CIs[0], \"\\nHigh:\", CIs[1])"
   ]
  },
  {
   "cell_type": "markdown",
   "metadata": {},
   "source": [
    "Note that you can change the range of the confidence interval by setting the alpha:"
   ]
  },
  {
   "cell_type": "code",
   "execution_count": 23,
   "metadata": {},
   "outputs": [
    {
     "name": "stdout",
     "output_type": "stream",
     "text": [
      "Bootstrapped 80% confidence interval\n",
      "Low: 0.8195958999999998 \n",
      "High: 1.5291377999999998\n"
     ]
    }
   ],
   "source": [
    "# 80% confidence interval  \n",
    "CIs = bootstrap.ci(treatment1, scipy.mean, alpha=0.2)  \n",
    "print(\"Bootstrapped 80% confidence interval\\nLow:\", CIs[0], \"\\nHigh:\", CIs[1])"
   ]
  },
  {
   "cell_type": "markdown",
   "metadata": {},
   "source": [
    "And also modify the size of the bootstrapped sample pool that the confidence intervals are taken from:"
   ]
  },
  {
   "cell_type": "code",
   "execution_count": 24,
   "metadata": {},
   "outputs": [
    {
     "name": "stdout",
     "output_type": "stream",
     "text": [
      "Bootstrapped 95% confidence interval w/ 20,000 samples\n",
      "Low: 0.614775824 \n",
      "High: 1.692654024\n"
     ]
    }
   ],
   "source": [
    "# bootstrap 20,000 samples instead of only 10,000  \n",
    "CIs = bootstrap.ci(treatment1, scipy.mean, n_samples=20000)  \n",
    "print(\"Bootstrapped 95% confidence interval w/ 20,000 samples\\nLow:\",  \n",
    "    CIs[0], \"\\nHigh:\", CIs[1]) "
   ]
  },
  {
   "cell_type": "markdown",
   "metadata": {},
   "source": [
    "Generally, bootstrapped 95% confidence intervals provide more accurate confidence intervals than 95% confidence intervals estimated from the SEM."
   ]
  },
  {
   "cell_type": "code",
   "execution_count": null,
   "metadata": {},
   "outputs": [],
   "source": []
  }
 ],
 "metadata": {
  "kernelspec": {
   "display_name": "Python 3",
   "language": "python",
   "name": "python3"
  },
  "language_info": {
   "codemirror_mode": {
    "name": "ipython",
    "version": 3
   },
   "file_extension": ".py",
   "mimetype": "text/x-python",
   "name": "python",
   "nbconvert_exporter": "python",
   "pygments_lexer": "ipython3",
   "version": "3.6.4"
  }
 },
 "nbformat": 4,
 "nbformat_minor": 2
}
